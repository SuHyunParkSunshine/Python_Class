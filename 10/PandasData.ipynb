{
 "cells": [
  {
   "cell_type": "code",
   "execution_count": 1,
   "metadata": {},
   "outputs": [
    {
     "name": "stdout",
     "output_type": "stream",
     "text": [
      "   total_bill   tip     sex smoker  day    time  size\n",
      "0       16.99  1.01  Female     No  Sun  Dinner     2\n",
      "1       10.34  1.66    Male     No  Sun  Dinner     3\n",
      "2       21.01  3.50    Male     No  Sun  Dinner     3\n",
      "3       23.68  3.31    Male     No  Sun  Dinner     2\n",
      "4       24.59  3.61  Female     No  Sun  Dinner     4\n"
     ]
    }
   ],
   "source": [
    "#데이터 입출력 예제 \n",
    "import pandas as pd\n",
    "df = pd.read_csv('tips.csv')\n",
    "print(df.head())"
   ]
  },
  {
   "cell_type": "code",
   "execution_count": 1,
   "metadata": {},
   "outputs": [
    {
     "name": "stdout",
     "output_type": "stream",
     "text": [
      "     total_bill   tip     sex smoker  day    time  size\n",
      "2         21.01  3.50    Male     No  Sun  Dinner     3\n",
      "3         23.68  3.31    Male     No  Sun  Dinner     2\n",
      "4         24.59  3.61  Female     No  Sun  Dinner     4\n",
      "5         25.29  4.71    Male     No  Sun  Dinner     4\n",
      "7         26.88  3.12    Male     No  Sun  Dinner     4\n",
      "..          ...   ...     ...    ...  ...     ...   ...\n",
      "237       32.83  1.17    Male    Yes  Sat  Dinner     2\n",
      "238       35.83  4.67  Female     No  Sat  Dinner     3\n",
      "239       29.03  5.92    Male     No  Sat  Dinner     3\n",
      "240       27.18  2.00  Female    Yes  Sat  Dinner     2\n",
      "241       22.67  2.00    Male    Yes  Sat  Dinner     2\n",
      "\n",
      "[97 rows x 7 columns]\n"
     ]
    }
   ],
   "source": [
    "#total_bill이 20보다 큰 행들만 선택해보세요.\n",
    "import pandas as pd\n",
    "df = pd.read_csv('tips.csv')\n",
    "\n",
    "ex1 = df[df['total_bill'] > 20]\n",
    "print(ex1)"
   ]
  },
  {
   "cell_type": "code",
   "execution_count": 2,
   "metadata": {},
   "outputs": [
    {
     "name": "stdout",
     "output_type": "stream",
     "text": [
      "     total_bill   tip     sex smoker   day    time  size\n",
      "0         16.99  1.01  Female     No   Sun  Dinner     2\n",
      "4         24.59  3.61  Female     No   Sun  Dinner     4\n",
      "11        35.26  5.00  Female     No   Sun  Dinner     4\n",
      "14        14.83  3.02  Female     No   Sun  Dinner     2\n",
      "16        10.33  1.67  Female     No   Sun  Dinner     3\n",
      "..          ...   ...     ...    ...   ...     ...   ...\n",
      "226       10.09  2.00  Female    Yes   Fri   Lunch     2\n",
      "229       22.12  2.88  Female    Yes   Sat  Dinner     2\n",
      "238       35.83  4.67  Female     No   Sat  Dinner     3\n",
      "240       27.18  2.00  Female    Yes   Sat  Dinner     2\n",
      "243       18.78  3.00  Female     No  Thur  Dinner     2\n",
      "\n",
      "[87 rows x 7 columns]\n"
     ]
    }
   ],
   "source": [
    "#sex가 'Female'인 행들만 선택해보세요.\n",
    "import pandas as pd\n",
    "df = pd.read_csv('tips.csv')\n",
    "\n",
    "ex2 = df[df['sex'] == 'Female']\n",
    "print(ex2)"
   ]
  },
  {
   "cell_type": "code",
   "execution_count": 3,
   "metadata": {},
   "outputs": [
    {
     "name": "stdout",
     "output_type": "stream",
     "text": [
      "     total_bill   tip     sex smoker  day    time  size\n",
      "0         16.99  1.01  Female     No  Sun  Dinner     2\n",
      "1         10.34  1.66    Male     No  Sun  Dinner     3\n",
      "2         21.01  3.50    Male     No  Sun  Dinner     3\n",
      "3         23.68  3.31    Male     No  Sun  Dinner     2\n",
      "4         24.59  3.61  Female     No  Sun  Dinner     4\n",
      "..          ...   ...     ...    ...  ...     ...   ...\n",
      "186       20.90  3.50  Female    Yes  Sun  Dinner     3\n",
      "187       30.46  2.00    Male    Yes  Sun  Dinner     5\n",
      "188       18.15  3.50  Female    Yes  Sun  Dinner     3\n",
      "189       23.10  4.00    Male    Yes  Sun  Dinner     3\n",
      "190       15.69  1.50    Male    Yes  Sun  Dinner     2\n",
      "\n",
      "[76 rows x 7 columns]\n"
     ]
    }
   ],
   "source": [
    "#day가 'Sun'이고 time이 'Dinner'인 행들만 선택해보세요.\n",
    "\n",
    "import pandas as pd\n",
    "df = pd.read_csv('tips.csv')\n",
    "\n",
    "ex3 = df[(df['day']=='Sun') & (df['time']=='Dinner')]\n",
    "print(ex3)"
   ]
  },
  {
   "cell_type": "code",
   "execution_count": 4,
   "metadata": {},
   "outputs": [
    {
     "name": "stdout",
     "output_type": "stream",
     "text": [
      "     total_bill    tip     sex smoker   day    time  size\n",
      "23        39.42   7.58    Male     No   Sat  Dinner     4\n",
      "44        30.40   5.60    Male     No   Sun  Dinner     4\n",
      "47        32.40   6.00    Male     No   Sun  Dinner     4\n",
      "52        34.81   5.20  Female     No   Sun  Dinner     4\n",
      "59        48.27   6.73    Male     No   Sat  Dinner     4\n",
      "85        34.83   5.17  Female     No  Thur   Lunch     4\n",
      "116       29.93   5.07    Male     No   Sun  Dinner     4\n",
      "170       50.81  10.00    Male    Yes   Sat  Dinner     3\n",
      "183       23.17   6.50    Male    Yes   Sun  Dinner     4\n",
      "211       25.89   5.16    Male    Yes   Sat  Dinner     4\n",
      "212       48.33   9.00    Male     No   Sat  Dinner     4\n",
      "214       28.17   6.50  Female    Yes   Sat  Dinner     3\n",
      "239       29.03   5.92    Male     No   Sat  Dinner     3\n"
     ]
    }
   ],
   "source": [
    "# tip이 5보다 크고 size가 3 또는 4인 행들만 선택해보세요\n",
    "\n",
    "import pandas as pd\n",
    "df = pd.read_csv('tips.csv')\n",
    "\n",
    "ex4 = df[(df['tip'] > 5) & (df['size'].isin([3,4]))]\n",
    "print(ex4)"
   ]
  },
  {
   "cell_type": "code",
   "execution_count": 5,
   "metadata": {},
   "outputs": [
    {
     "name": "stdout",
     "output_type": "stream",
     "text": [
      "     total_bill   tip  size\n",
      "0         16.99  1.01     2\n",
      "1         10.34  1.66     3\n",
      "2         21.01  3.50     3\n",
      "3         23.68  3.31     2\n",
      "4         24.59  3.61     4\n",
      "..          ...   ...   ...\n",
      "239       29.03  5.92     3\n",
      "240       27.18  2.00     2\n",
      "241       22.67  2.00     2\n",
      "242       17.82  1.75     2\n",
      "243       18.78  3.00     2\n",
      "\n",
      "[244 rows x 3 columns]\n"
     ]
    }
   ],
   "source": [
    "#total_bill, tip, size 열만 선택해보세요.\n",
    "import pandas as pd\n",
    "df = pd.read_csv('tips.csv')\n",
    "\n",
    "ex5 = df[['total_bill', 'tip', 'size']]\n",
    "print(ex5)"
   ]
  }
 ],
 "metadata": {
  "kernelspec": {
   "display_name": "base",
   "language": "python",
   "name": "python3"
  },
  "language_info": {
   "codemirror_mode": {
    "name": "ipython",
    "version": 3
   },
   "file_extension": ".py",
   "mimetype": "text/x-python",
   "name": "python",
   "nbconvert_exporter": "python",
   "pygments_lexer": "ipython3",
   "version": "3.10.9"
  },
  "orig_nbformat": 4
 },
 "nbformat": 4,
 "nbformat_minor": 2
}
